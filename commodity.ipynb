{
 "cells": [
  {
   "cell_type": "code",
   "execution_count": 31,
   "metadata": {},
   "outputs": [],
   "source": [
    "\n",
    "import csv\n",
    "import matplotlib.pyplot as plt\n",
    "import numpy as np\n",
    "import pandas as pd\n",
    "\n",
    "from statsmodels.tsa.stattools import adfuller\n",
    "from statsmodels.tsa.seasonal import seasonal_decompose\n",
    "from statsmodels.tsa.arima_model import ARIMA\n",
    "\n",
    "from pandas.plotting import register_matplotlib_converters\n",
    "register_matplotlib_converters()"
   ]
  },
  {
   "cell_type": "code",
   "execution_count": 32,
   "metadata": {},
   "outputs": [
    {
     "data": {
      "text/html": [
       "<div>\n",
       "<style scoped>\n",
       "    .dataframe tbody tr th:only-of-type {\n",
       "        vertical-align: middle;\n",
       "    }\n",
       "\n",
       "    .dataframe tbody tr th {\n",
       "        vertical-align: top;\n",
       "    }\n",
       "\n",
       "    .dataframe thead th {\n",
       "        text-align: right;\n",
       "    }\n",
       "</style>\n",
       "<table border=\"1\" class=\"dataframe\">\n",
       "  <thead>\n",
       "    <tr style=\"text-align: right;\">\n",
       "      <th></th>\n",
       "      <th>0BILL_TYPE___T</th>\n",
       "      <th>0FISCYEAR</th>\n",
       "      <th>0DIVISION___T</th>\n",
       "      <th>Transactoin State</th>\n",
       "      <th>Material Level 2</th>\n",
       "      <th>Material Level 3</th>\n",
       "      <th>Material Group</th>\n",
       "      <th>Material Grade</th>\n",
       "      <th>Plant Nbr</th>\n",
       "      <th>Ship To City</th>\n",
       "      <th>Ship To County</th>\n",
       "      <th>Ship To State</th>\n",
       "      <th>Ship To Region</th>\n",
       "      <th>Ship To Country</th>\n",
       "      <th>Cal_Quarter_text</th>\n",
       "      <th>Fiscal_Year_Period_Text</th>\n",
       "      <th>Product ID</th>\n",
       "      <th>Mill_Amount_in_SC</th>\n",
       "      <th>Qty_in_Conv_Vol</th>\n",
       "      <th>ASP</th>\n",
       "    </tr>\n",
       "    <tr>\n",
       "      <th>Date</th>\n",
       "      <th></th>\n",
       "      <th></th>\n",
       "      <th></th>\n",
       "      <th></th>\n",
       "      <th></th>\n",
       "      <th></th>\n",
       "      <th></th>\n",
       "      <th></th>\n",
       "      <th></th>\n",
       "      <th></th>\n",
       "      <th></th>\n",
       "      <th></th>\n",
       "      <th></th>\n",
       "      <th></th>\n",
       "      <th></th>\n",
       "      <th></th>\n",
       "      <th></th>\n",
       "      <th></th>\n",
       "      <th></th>\n",
       "      <th></th>\n",
       "    </tr>\n",
       "  </thead>\n",
       "  <tbody>\n",
       "    <tr>\n",
       "      <th>2017-06-30</th>\n",
       "      <td>DOMESTIC INVOICE</td>\n",
       "      <td>2017</td>\n",
       "      <td>OSB</td>\n",
       "      <td>Finished Product</td>\n",
       "      <td>COMMODITY</td>\n",
       "      <td>OSB TN 250</td>\n",
       "      <td>OSB TN 250</td>\n",
       "      <td>A</td>\n",
       "      <td>1321.0</td>\n",
       "      <td>COLORADO SPRINGS</td>\n",
       "      <td>EL PASO</td>\n",
       "      <td>Colorado</td>\n",
       "      <td>WEST</td>\n",
       "      <td>US</td>\n",
       "      <td>2017.Q2</td>\n",
       "      <td>2017.06</td>\n",
       "      <td>31113</td>\n",
       "      <td>11192.38</td>\n",
       "      <td>37</td>\n",
       "      <td>302.50</td>\n",
       "    </tr>\n",
       "    <tr>\n",
       "      <th>2015-01-15</th>\n",
       "      <td>CANCELLATION INVOICE</td>\n",
       "      <td>2015</td>\n",
       "      <td>OSB</td>\n",
       "      <td>Finished Product</td>\n",
       "      <td>COMMODITY</td>\n",
       "      <td>OSB Commodity</td>\n",
       "      <td>OSB Commodity</td>\n",
       "      <td>A</td>\n",
       "      <td>1030.0</td>\n",
       "      <td>OSHKOSH</td>\n",
       "      <td>WINNEBAGO</td>\n",
       "      <td>Wisconsin</td>\n",
       "      <td>NORTH CENTRAL</td>\n",
       "      <td>US</td>\n",
       "      <td>2015.Q1</td>\n",
       "      <td>2015.01</td>\n",
       "      <td>591</td>\n",
       "      <td>-4525.88</td>\n",
       "      <td>-26</td>\n",
       "      <td>174.07</td>\n",
       "    </tr>\n",
       "    <tr>\n",
       "      <th>2016-06-21</th>\n",
       "      <td>DOMESTIC INVOICE</td>\n",
       "      <td>2016</td>\n",
       "      <td>OSB</td>\n",
       "      <td>Finished Product</td>\n",
       "      <td>COMMODITY</td>\n",
       "      <td>OSB Commodity</td>\n",
       "      <td>OSB Commodity</td>\n",
       "      <td>A</td>\n",
       "      <td>1010.0</td>\n",
       "      <td>MADISON</td>\n",
       "      <td>DAVIDSON</td>\n",
       "      <td>Tennessee</td>\n",
       "      <td>SOUTHEAST</td>\n",
       "      <td>US</td>\n",
       "      <td>2016.Q2</td>\n",
       "      <td>2016.06</td>\n",
       "      <td>39970</td>\n",
       "      <td>7136.35</td>\n",
       "      <td>36</td>\n",
       "      <td>198.23</td>\n",
       "    </tr>\n",
       "    <tr>\n",
       "      <th>2014-08-01</th>\n",
       "      <td>CANCELLATION INVOICE</td>\n",
       "      <td>2014</td>\n",
       "      <td>OSB</td>\n",
       "      <td>Finished Product</td>\n",
       "      <td>COMMODITY</td>\n",
       "      <td>OSB Commodity</td>\n",
       "      <td>OSB Commodity</td>\n",
       "      <td>A</td>\n",
       "      <td>1710.0</td>\n",
       "      <td>BEAUMONT</td>\n",
       "      <td>RIVERSIDE</td>\n",
       "      <td>California</td>\n",
       "      <td>NATIONAL</td>\n",
       "      <td>US</td>\n",
       "      <td>2014.Q3</td>\n",
       "      <td>2014.08</td>\n",
       "      <td>22485</td>\n",
       "      <td>-89040.00</td>\n",
       "      <td>-392</td>\n",
       "      <td>227.14</td>\n",
       "    </tr>\n",
       "    <tr>\n",
       "      <th>2018-01-25</th>\n",
       "      <td>DOMESTIC INVOICE</td>\n",
       "      <td>2018</td>\n",
       "      <td>OSB</td>\n",
       "      <td>Finished Product</td>\n",
       "      <td>COMMODITY</td>\n",
       "      <td>OSB TN 250</td>\n",
       "      <td>OSB TN 250</td>\n",
       "      <td>A</td>\n",
       "      <td>1030.0</td>\n",
       "      <td>DULUTH</td>\n",
       "      <td>SAINT LOUIS</td>\n",
       "      <td>Minnesota</td>\n",
       "      <td>NATIONAL</td>\n",
       "      <td>US</td>\n",
       "      <td>2018.Q1</td>\n",
       "      <td>2018.01</td>\n",
       "      <td>22491</td>\n",
       "      <td>2524.14</td>\n",
       "      <td>11</td>\n",
       "      <td>229.47</td>\n",
       "    </tr>\n",
       "  </tbody>\n",
       "</table>\n",
       "</div>"
      ],
      "text/plain": [
       "                  0BILL_TYPE___T  0FISCYEAR 0DIVISION___T Transactoin State  \\\n",
       "Date                                                                          \n",
       "2017-06-30      DOMESTIC INVOICE       2017           OSB  Finished Product   \n",
       "2015-01-15  CANCELLATION INVOICE       2015           OSB  Finished Product   \n",
       "2016-06-21      DOMESTIC INVOICE       2016           OSB  Finished Product   \n",
       "2014-08-01  CANCELLATION INVOICE       2014           OSB  Finished Product   \n",
       "2018-01-25      DOMESTIC INVOICE       2018           OSB  Finished Product   \n",
       "\n",
       "           Material Level 2 Material Level 3 Material Group Material Grade  \\\n",
       "Date                                                                         \n",
       "2017-06-30        COMMODITY       OSB TN 250     OSB TN 250              A   \n",
       "2015-01-15        COMMODITY    OSB Commodity  OSB Commodity              A   \n",
       "2016-06-21        COMMODITY    OSB Commodity  OSB Commodity              A   \n",
       "2014-08-01        COMMODITY    OSB Commodity  OSB Commodity              A   \n",
       "2018-01-25        COMMODITY       OSB TN 250     OSB TN 250              A   \n",
       "\n",
       "            Plant Nbr      Ship To City Ship To County Ship To State  \\\n",
       "Date                                                                   \n",
       "2017-06-30     1321.0  COLORADO SPRINGS        EL PASO      Colorado   \n",
       "2015-01-15     1030.0           OSHKOSH      WINNEBAGO     Wisconsin   \n",
       "2016-06-21     1010.0           MADISON       DAVIDSON     Tennessee   \n",
       "2014-08-01     1710.0          BEAUMONT      RIVERSIDE    California   \n",
       "2018-01-25     1030.0            DULUTH    SAINT LOUIS     Minnesota   \n",
       "\n",
       "           Ship To Region Ship To Country Cal_Quarter_text  \\\n",
       "Date                                                         \n",
       "2017-06-30           WEST              US          2017.Q2   \n",
       "2015-01-15  NORTH CENTRAL              US          2015.Q1   \n",
       "2016-06-21      SOUTHEAST              US          2016.Q2   \n",
       "2014-08-01       NATIONAL              US          2014.Q3   \n",
       "2018-01-25       NATIONAL              US          2018.Q1   \n",
       "\n",
       "            Fiscal_Year_Period_Text  Product ID  Mill_Amount_in_SC  \\\n",
       "Date                                                                 \n",
       "2017-06-30                  2017.06       31113           11192.38   \n",
       "2015-01-15                  2015.01         591           -4525.88   \n",
       "2016-06-21                  2016.06       39970            7136.35   \n",
       "2014-08-01                  2014.08       22485          -89040.00   \n",
       "2018-01-25                  2018.01       22491            2524.14   \n",
       "\n",
       "            Qty_in_Conv_Vol     ASP  \n",
       "Date                                 \n",
       "2017-06-30               37  302.50  \n",
       "2015-01-15              -26  174.07  \n",
       "2016-06-21               36  198.23  \n",
       "2014-08-01             -392  227.14  \n",
       "2018-01-25               11  229.47  "
      ]
     },
     "execution_count": 32,
     "metadata": {},
     "output_type": "execute_result"
    }
   ],
   "source": [
    "df_commodity = pd.read_csv(\"commodity_bryan.csv\",parse_dates=[\"Date\"], index_col=\"Date\", encoding=\"latin-1\")\n",
    "\n",
    "df_commodity.head()"
   ]
  },
  {
   "cell_type": "code",
   "execution_count": 33,
   "metadata": {},
   "outputs": [
    {
     "data": {
      "text/plain": [
       "Index(['0BILL_TYPE___T', '0FISCYEAR', '0DIVISION___T', 'Transactoin State',\n",
       "       'Material Level 2', 'Material Level 3', 'Material Group',\n",
       "       'Material Grade', 'Plant Nbr', 'Ship To City', 'Ship To County',\n",
       "       'Ship To State', 'Ship To Region', 'Ship To Country',\n",
       "       'Cal_Quarter_text', 'Fiscal_Year_Period_Text', 'Product ID',\n",
       "       'Mill_Amount_in_SC', 'Qty_in_Conv_Vol', 'ASP'],\n",
       "      dtype='object')"
      ]
     },
     "execution_count": 33,
     "metadata": {},
     "output_type": "execute_result"
    }
   ],
   "source": [
    "df_commodity.columns"
   ]
  },
  {
   "cell_type": "code",
   "execution_count": 34,
   "metadata": {},
   "outputs": [
    {
     "data": {
      "text/html": [
       "<div>\n",
       "<style scoped>\n",
       "    .dataframe tbody tr th:only-of-type {\n",
       "        vertical-align: middle;\n",
       "    }\n",
       "\n",
       "    .dataframe tbody tr th {\n",
       "        vertical-align: top;\n",
       "    }\n",
       "\n",
       "    .dataframe thead th {\n",
       "        text-align: right;\n",
       "    }\n",
       "</style>\n",
       "<table border=\"1\" class=\"dataframe\">\n",
       "  <thead>\n",
       "    <tr style=\"text-align: right;\">\n",
       "      <th></th>\n",
       "      <th>ASP</th>\n",
       "    </tr>\n",
       "    <tr>\n",
       "      <th>Date</th>\n",
       "      <th></th>\n",
       "    </tr>\n",
       "  </thead>\n",
       "  <tbody>\n",
       "    <tr>\n",
       "      <th>2017-06-30</th>\n",
       "      <td>302.50</td>\n",
       "    </tr>\n",
       "    <tr>\n",
       "      <th>2015-01-15</th>\n",
       "      <td>174.07</td>\n",
       "    </tr>\n",
       "    <tr>\n",
       "      <th>2016-06-21</th>\n",
       "      <td>198.23</td>\n",
       "    </tr>\n",
       "    <tr>\n",
       "      <th>2014-08-01</th>\n",
       "      <td>227.14</td>\n",
       "    </tr>\n",
       "    <tr>\n",
       "      <th>2018-01-25</th>\n",
       "      <td>229.47</td>\n",
       "    </tr>\n",
       "  </tbody>\n",
       "</table>\n",
       "</div>"
      ],
      "text/plain": [
       "               ASP\n",
       "Date              \n",
       "2017-06-30  302.50\n",
       "2015-01-15  174.07\n",
       "2016-06-21  198.23\n",
       "2014-08-01  227.14\n",
       "2018-01-25  229.47"
      ]
     },
     "execution_count": 34,
     "metadata": {},
     "output_type": "execute_result"
    }
   ],
   "source": [
    "df_commodity = df_commodity[[\"ASP\"]]\n",
    "df_commodity.head()"
   ]
  },
  {
   "cell_type": "code",
   "execution_count": 35,
   "metadata": {},
   "outputs": [
    {
     "data": {
      "image/png": "[encoded data removed]",
      "text/plain": [
       "<Figure size 432x288 with 1 Axes>"
      ]
     },
     "metadata": {
      "needs_background": "light"
     },
     "output_type": "display_data"
    }
   ],
   "source": [
    "#To get a better picture if my model is stationary or not\n",
    "#Or to identify whether or not trends or seasonal effects exists\n",
    "series = df_commodity\n",
    "series.plot()\n",
    "plt.show()"
   ]
  },
  {
   "cell_type": "code",
   "execution_count": 38,
   "metadata": {},
   "outputs": [
    {
     "data": {
      "text/html": [
       "<div>\n",
       "<style scoped>\n",
       "    .dataframe tbody tr th:only-of-type {\n",
       "        vertical-align: middle;\n",
       "    }\n",
       "\n",
       "    .dataframe tbody tr th {\n",
       "        vertical-align: top;\n",
       "    }\n",
       "\n",
       "    .dataframe thead th {\n",
       "        text-align: right;\n",
       "    }\n",
       "</style>\n",
       "<table border=\"1\" class=\"dataframe\">\n",
       "  <thead>\n",
       "    <tr style=\"text-align: right;\">\n",
       "      <th></th>\n",
       "      <th>ASP</th>\n",
       "    </tr>\n",
       "    <tr>\n",
       "      <th>Date</th>\n",
       "      <th></th>\n",
       "    </tr>\n",
       "  </thead>\n",
       "  <tbody>\n",
       "    <tr>\n",
       "      <th>2017-06-30</th>\n",
       "      <td>302.50</td>\n",
       "    </tr>\n",
       "    <tr>\n",
       "      <th>2015-01-15</th>\n",
       "      <td>174.07</td>\n",
       "    </tr>\n",
       "    <tr>\n",
       "      <th>2016-06-21</th>\n",
       "      <td>198.23</td>\n",
       "    </tr>\n",
       "    <tr>\n",
       "      <th>2014-08-01</th>\n",
       "      <td>227.14</td>\n",
       "    </tr>\n",
       "    <tr>\n",
       "      <th>2018-01-25</th>\n",
       "      <td>229.47</td>\n",
       "    </tr>\n",
       "  </tbody>\n",
       "</table>\n",
       "</div>"
      ],
      "text/plain": [
       "               ASP\n",
       "Date              \n",
       "2017-06-30  302.50\n",
       "2015-01-15  174.07\n",
       "2016-06-21  198.23\n",
       "2014-08-01  227.14\n",
       "2018-01-25  229.47"
      ]
     },
     "execution_count": 38,
     "metadata": {},
     "output_type": "execute_result"
    }
   ],
   "source": [
    "#drop of null values for new df \n",
    "\n",
    "df_stationary = df_commodity.dropna()\n",
    "\n",
    "df_stationary.head()"
   ]
  },
  {
   "cell_type": "code",
   "execution_count": 39,
   "metadata": {},
   "outputs": [
    {
     "data": {
      "image/png": "[encoded data removed]",
      "text/plain": [
       "<Figure size 432x288 with 1 Axes>"
      ]
     },
     "metadata": {
      "needs_background": "light"
     },
     "output_type": "display_data"
    }
   ],
   "source": [
    "#Double check stationary status \n",
    "\n",
    "series2 = df_stationary\n",
    "series2.plot()\n",
    "plt.show()"
   ]
  },
  {
   "cell_type": "code",
   "execution_count": 40,
   "metadata": {},
   "outputs": [
    {
     "name": "stdout",
     "output_type": "stream",
     "text": [
      "ADF Statistic: -707.2179019046722\n",
      "p-value: 0.0\n",
      "Critical Values:\n",
      "\t1%: -3.4303630726275594\n",
      "\t5%: -2.861545777947517\n",
      "\t10%: -2.5667730753904006\n"
     ]
    }
   ],
   "source": [
    "#Summary stats using ADF \n",
    "\n",
    "result = adfuller(df_stationary['ASP'])\n",
    "print('ADF Statistic: {}'.format(result[0]))\n",
    "print('p-value: {}'.format(result[1]))\n",
    "print('Critical Values:')\n",
    "for key, value in result[4].items():\n",
    "    print('\\t{}: {}'.format(key, value))"
   ]
  },
  {
   "cell_type": "code",
   "execution_count": 41,
   "metadata": {},
   "outputs": [
    {
     "data": {
      "text/plain": [
       "Date\n",
       "2014-01-31    192.590145\n",
       "2014-02-28    190.206806\n",
       "2014-03-31    193.906745\n",
       "2014-04-30    187.860060\n",
       "2014-05-31    188.622050\n",
       "Freq: M, Name: ASP, dtype: float64"
      ]
     },
     "execution_count": 41,
     "metadata": {},
     "output_type": "execute_result"
    }
   ],
   "source": [
    "# resample stationary data to account for variants or missing values potentially \n",
    "\n",
    "df_stationary2 = df_stationary['ASP'].resample('M').mean()\n",
    "\n",
    "df_stationary2.head()\n"
   ]
  },
  {
   "cell_type": "code",
   "execution_count": 42,
   "metadata": {},
   "outputs": [
    {
     "data": {
      "image/png": "[encoded data removed]",
      "text/plain": [
       "<Figure size 432x288 with 1 Axes>"
      ]
     },
     "metadata": {
      "needs_background": "light"
     },
     "output_type": "display_data"
    }
   ],
   "source": [
    "#Final check prior to training models to identify rolling mean, std with original stationary data\n",
    "stationary_rolling_mean = df_stationary2.rolling(window = 10).mean()\n",
    "stationary_rolling_std = df_stationary2.rolling(window = 10).std()\n",
    "plt.plot(df_stationary2, color = 'black', label = 'OG')\n",
    "plt.plot(stationary_rolling_mean, color = 'red', label = 'Rolling Mean')\n",
    "plt.plot(stationary_rolling_std, color = 'blue', label = 'Rolling Std Dev')\n",
    "plt.legend(loc = 'best')\n",
    "plt.title('Final Check for Mean & STD')\n",
    "plt.show()"
   ]
  },
  {
   "cell_type": "code",
   "execution_count": 46,
   "metadata": {},
   "outputs": [
    {
     "data": {
      "text/plain": [
       "Date\n",
       "2014-01-31    192.590145\n",
       "2014-02-28    190.206806\n",
       "2014-03-31    193.906745\n",
       "2014-04-30    187.860060\n",
       "2014-05-31    188.622050\n",
       "Freq: M, Name: ASP, dtype: float64"
      ]
     },
     "execution_count": 46,
     "metadata": {},
     "output_type": "execute_result"
    }
   ],
   "source": [
    "# Train data - all data up to the end of 2016\n",
    "df_train1 = df_stationary2.loc[:'2016']\n",
    "\n",
    "# Test data - 2017 + 2018\n",
    "df_test = df_stationary2.loc['2017':'2018']\n",
    "\n",
    "# df_test_18.head()\n",
    "\n",
    "df_train1.head()"
   ]
  },
  {
   "cell_type": "code",
   "execution_count": 48,
   "metadata": {},
   "outputs": [
    {
     "data": {
      "text/plain": [
       "(array([735234., 735354., 735477., 735599., 735719., 735842., 735964.,\n",
       "        736085., 736208., 736330.]), <a list of 10 Text xticklabel objects>)"
      ]
     },
     "execution_count": 48,
     "metadata": {},
     "output_type": "execute_result"
    },
    {
     "data": {
      "image/png": "[encoded data removed]",
      "text/plain": [
       "<Figure size 600x400 with 1 Axes>"
      ]
     },
     "metadata": {
      "needs_background": "light"
     },
     "output_type": "display_data"
    }
   ],
   "source": [
    "decomposition = seasonal_decompose(df_train1) \n",
    "model = ARIMA(df_train1, order=(1,0,1))\n",
    "results = model.fit(disp=-1)\n",
    "plt.figure(figsize=(6, 4), dpi=100)\n",
    "plt.plot(df_stationary2.loc[:'2016'])\n",
    "plt.plot(results.fittedvalues, color='red')\n",
    "plt.xticks(rotation=45)"
   ]
  },
  {
   "cell_type": "code",
   "execution_count": 49,
   "metadata": {},
   "outputs": [
    {
     "data": {
      "text/plain": [
       "(array([540, 552, 564]), <a list of 3 Text xticklabel objects>)"
      ]
     },
     "execution_count": 49,
     "metadata": {},
     "output_type": "execute_result"
    },
    {
     "data": {
      "text/plain": [
       "<Figure size 600x400 with 0 Axes>"
      ]
     },
     "metadata": {},
     "output_type": "display_data"
    },
    {
     "data": {
      "image/png": "[encoded data removed]",
      "text/plain": [
       "<Figure size 432x288 with 1 Axes>"
      ]
     },
     "metadata": {
      "needs_background": "light"
     },
     "output_type": "display_data"
    }
   ],
   "source": [
    "predictions_ARIMA_diff = pd.Series(results.fittedvalues, copy=True)\n",
    "predictions_ARIMA_diff_cumsum = predictions_ARIMA_diff.cumsum()\n",
    "predictions_ARIMA_log = pd.Series(df_train1.iloc[0], index=df_train1.index)\n",
    "predictions_ARIMA_log = predictions_ARIMA_log.add(predictions_ARIMA_diff_cumsum, fill_value=0)\n",
    "predictions_ARIMA = np.exp(predictions_ARIMA_log)\n",
    "plt.figure(figsize=(6, 4), dpi=100)\n",
    "results.plot_predict(1,45)\n",
    "plt.xticks(rotation=45)"
   ]
  },
  {
   "cell_type": "code",
   "execution_count": null,
   "metadata": {},
   "outputs": [],
   "source": []
  }
 ],
 "metadata": {
  "kernelspec": {
   "display_name": "Python 3",
   "language": "python",
   "name": "python3"
  },
  "language_info": {
   "codemirror_mode": {
    "name": "ipython",
    "version": 3
   },
   "file_extension": ".py",
   "mimetype": "text/x-python",
   "name": "python",
   "nbconvert_exporter": "python",
   "pygments_lexer": "ipython3",
   "version": "3.6.9"
  }
 },
 "nbformat": 4,
 "nbformat_minor": 2
}
